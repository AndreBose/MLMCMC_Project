{
 "cells": [
  {
   "cell_type": "markdown",
   "id": "93839af5",
   "metadata": {},
   "source": [
    "## Log-Normal Distribution according to PYMC3\n",
    "\n",
    "\\begin{equation*}\n",
    "\\begin{aligned}\n",
    "    Y & \\sim \\mathcal{LogN}(\\mu, \\tau) \\\\\n",
    "    f(y) & = \\frac{1}{y} \\sqrt{\\frac{\\tau}{2\\pi}} exp\\left( -\\frac{\\tau}{2} (log(y) - \\mu)^2 \\right) \\\\\n",
    "    m & = exp\\left( \\mu + \\frac{1}{2\\tau} \\right) \\\\\n",
    "    \\sigma^2 & = \\left( exp\\left(\\frac{1}{\\tau} \\right) - 1 \\right) exp\\left( 2\\mu + \\frac{1}  {\\tau}\\right) \\\\\n",
    "    \\mu & = log \\left( \\frac{m}{\\sqrt{\\frac{\\sigma^2}{m^2}} + 1} \\right)  \\\\\n",
    "    \\tau & = \\frac{1}{log\\left( \\frac{\\sigma^2}{m^2} + 1 \\right)}\n",
    "\\end{aligned}\n",
    "\\end{equation*}"
   ]
  },
  {
   "cell_type": "code",
   "execution_count": 24,
   "id": "f0ea31d8",
   "metadata": {
    "ExecuteTime": {
     "end_time": "2021-12-27T17:18:16.308671Z",
     "start_time": "2021-12-27T17:18:16.212931Z"
    }
   },
   "outputs": [
    {
     "name": "stderr",
     "output_type": "stream",
     "text": [
      "/tmp/ipykernel_4323/2529369537.py:14: RuntimeWarning: divide by zero encountered in true_divide\n",
      "  return (1/x)*np.sqrt(0.5*tau/np.pi)*np.exp(-0.5*tau*(np.log(x)-mu)**2)\n",
      "/tmp/ipykernel_4323/2529369537.py:14: RuntimeWarning: divide by zero encountered in log\n",
      "  return (1/x)*np.sqrt(0.5*tau/np.pi)*np.exp(-0.5*tau*(np.log(x)-mu)**2)\n",
      "/tmp/ipykernel_4323/2529369537.py:14: RuntimeWarning: invalid value encountered in multiply\n",
      "  return (1/x)*np.sqrt(0.5*tau/np.pi)*np.exp(-0.5*tau*(np.log(x)-mu)**2)\n"
     ]
    },
    {
     "data": {
      "image/png": "[encoded data removed]",
      "text/plain": [
       "<Figure size 432x288 with 1 Axes>"
      ]
     },
     "metadata": {},
     "output_type": "display_data"
    }
   ],
   "source": [
    "import matplotlib.pyplot as plt\n",
    "import numpy as np\n",
    "import scipy.stats as st\n",
    "plt.style.use('seaborn-darkgrid')\n",
    "x = np.linspace(0, 1, 200)\n",
    "mean = 0.352\n",
    "sd =  0.012\n",
    "scale_var = 500\n",
    "goal = 0.27\n",
    "\n",
    "def log_normal(x, m, sd):\n",
    "    mu = np.log(m / np.sqrt(1 + (sd/m)**2))\n",
    "    tau = 1 / np.log(1 + (sd/m)**2)\n",
    "    return (1/x)*np.sqrt(0.5*tau/np.pi)*np.exp(-0.5*tau*(np.log(x)-mu)**2)\n",
    "\n",
    "pdf = log_normal(x, mean, sd*np.sqrt(scale_var))\n",
    "plt.plot(x, pdf)\n",
    "plt.axvline(x=goal, c='red')\n",
    "plt.show()"
   ]
  },
  {
   "cell_type": "code",
   "execution_count": null,
   "id": "a8f1b3ef",
   "metadata": {},
   "outputs": [],
   "source": []
  }
 ],
 "metadata": {
  "kernelspec": {
   "display_name": "Python 3 (ipykernel)",
   "language": "python",
   "name": "python3"
  },
  "language_info": {
   "codemirror_mode": {
    "name": "ipython",
    "version": 3
   },
   "file_extension": ".py",
   "mimetype": "text/x-python",
   "name": "python",
   "nbconvert_exporter": "python",
   "pygments_lexer": "ipython3",
   "version": "3.8.12"
  },
  "toc": {
   "base_numbering": 1,
   "nav_menu": {},
   "number_sections": true,
   "sideBar": true,
   "skip_h1_title": false,
   "title_cell": "Table of Contents",
   "title_sidebar": "Contents",
   "toc_cell": false,
   "toc_position": {},
   "toc_section_display": true,
   "toc_window_display": false
  },
  "varInspector": {
   "cols": {
    "lenName": 16,
    "lenType": 16,
    "lenVar": 40
   },
   "kernels_config": {
    "python": {
     "delete_cmd_postfix": "",
     "delete_cmd_prefix": "del ",
     "library": "var_list.py",
     "varRefreshCmd": "print(var_dic_list())"
    },
    "r": {
     "delete_cmd_postfix": ") ",
     "delete_cmd_prefix": "rm(",
     "library": "var_list.r",
     "varRefreshCmd": "cat(var_dic_list()) "
    }
   },
   "types_to_exclude": [
    "module",
    "function",
    "builtin_function_or_method",
    "instance",
    "_Feature"
   ],
   "window_display": false
  }
 },
 "nbformat": 4,
 "nbformat_minor": 5
}
